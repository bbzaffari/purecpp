{
  "cells": [
    {
      "cell_type": "code",
      "execution_count": 1,
      "metadata": {
        "id": "dcXPWBxXGES3"
      },
      "outputs": [],
      "source": [
        "# !pip uninstall purecpp_libs purecpp_extract purecpp_chunks_clean"
      ]
    },
    {
      "cell_type": "code",
      "execution_count": 2,
      "metadata": {
        "colab": {
          "base_uri": "https://localhost:8080/"
        },
        "id": "7dtgLxkQBVU4",
        "outputId": "3f8c01bd-e43c-4b87-c5d9-032d3c7ecf01"
      },
      "outputs": [],
      "source": [
        "# !pip install purecpp_libs==0.0.10 purecpp_extract==0.0.10 purecpp_chunks_clean==0.0.10 purecpp_embed==0.0.10"
      ]
    },
    {
      "cell_type": "code",
      "execution_count": null,
      "metadata": {
        "colab": {
          "base_uri": "https://localhost:8080/"
        },
        "id": "Id24_ARrT_KY",
        "outputId": "aa82d813-2eb6-4260-f680-cb82953b626a"
      },
      "outputs": [],
      "source": [
        "import os\n",
        "os.environ[\"OPENAI_API_KEY\"] = \"\""
      ]
    },
    {
      "cell_type": "code",
      "execution_count": 4,
      "metadata": {
        "id": "TAd_tzUZBVU5"
      },
      "outputs": [],
      "source": [
        "import purecpp_libs as libs\n",
        "from purecpp_extract import WebLoader\n",
        "# from purecpp_chunks_clean import VectorDataBase as VDB\n",
        "\n",
        "import purecpp_chunks_clean as cc\n",
        "# import purecpp_embed as embchunked_docs\n",
        "import faiss"
      ]
    },
    {
      "cell_type": "code",
      "execution_count": 5,
      "metadata": {
        "id": "UZD-yrgDBVU5"
      },
      "outputs": [
        {
          "name": "stdout",
          "output_type": "stream",
          "text": [
            "Scrapped https://www.espn.com/\n"
          ]
        }
      ],
      "source": [
        "loader = WebLoader(\"https://www.espn.com/\")\n",
        "docs = loader.Load()"
      ]
    },
    {
      "cell_type": "code",
      "execution_count": 6,
      "metadata": {
        "colab": {
          "base_uri": "https://localhost:8080/"
        },
        "id": "uESlIyRnGB6o",
        "outputId": "2c70b965-4e04-44ba-b5de-173d2901108a"
      },
      "outputs": [],
      "source": [
        "chunk_default = cc.ChunkDefault(chunk_size=420, overlap=60, items_opt=docs, max_workers=4)"
      ]
    },
    {
      "cell_type": "code",
      "execution_count": 7,
      "metadata": {},
      "outputs": [
        {
          "name": "stdout",
          "output_type": "stream",
          "text": [
            "Flatten vector dimensions: <30720>\n",
            "dim: 1536 n: 20 → expected size: 30720\n",
            "Model text-embedding-ada-002, openai\n"
          ]
        },
        {
          "data": {
            "text/plain": [
              "<purecpp_chunks_clean.VDBdata at 0x7fdcaaa97df0>"
            ]
          },
          "execution_count": 7,
          "metadata": {},
          "output_type": "execute_result"
        },
        {
          "name": "stdout",
          "output_type": "stream",
          "text": [
            "╔═════════════════════════════════════════════════════════════════════════════════════╗\n",
            "║ ➤ Model: text-embedding-ada-002 was added to chunks                      \n",
            "╚═════════════════════════════════════════════════════════════════════════════════════╝\n",
            "╔═════════════════════════════════════════════════════════════════════════════════════╗\n",
            "║ ➤ Model / Vendor    : text-embedding-ada-002 / openai         \n",
            "║ ➤ Dimensions      : 1536         \n",
            "║ ➤ Flat Vector Size: 30720         \n",
            "╚═════════════════════════════════════════════════════════════════════════════════════╝\n"
          ]
        }
      ],
      "source": [
        "chunk_default.CreateEmb()"
      ]
    },
    {
      "cell_type": "code",
      "execution_count": 8,
      "metadata": {},
      "outputs": [
        {
          "data": {
            "text/plain": [
              "<purecpp_chunks_clean.VDBdata at 0x7fdcaaa82830>"
            ]
          },
          "execution_count": 8,
          "metadata": {},
          "output_type": "execute_result"
        },
        {
          "name": "stdout",
          "output_type": "stream",
          "text": [
            "Flatten vector dimensions: <30720>\n",
            "dim: 1536 n: 20 → expected size: 30720\n",
            "Model text-embedding-3-small, openai\n",
            "╔═════════════════════════════════════════════════════════════════════════════════════╗\n",
            "║ ➤ Model: text-embedding-3-small was added to chunks                      \n",
            "╚═════════════════════════════════════════════════════════════════════════════════════╝\n",
            "╔═════════════════════════════════════════════════════════════════════════════════════╗\n",
            "║ ➤ Model / Vendor    : text-embedding-3-small / openai         \n",
            "║ ➤ Dimensions      : 1536         \n",
            "║ ➤ Flat Vector Size: 30720         \n",
            "╚═════════════════════════════════════════════════════════════════════════════════════╝\n"
          ]
        }
      ],
      "source": [
        "chunk_default.CreateEmb(\"text-embedding-3-small\")"
      ]
    },
    {
      "cell_type": "code",
      "execution_count": 9,
      "metadata": {},
      "outputs": [
        {
          "name": "stdout",
          "output_type": "stream",
          "text": [
            "Chunk list contains 20 chunks.\n",
            "With an average size of: 420 and  overlap of: 60 | Quantity of different embeddings: 2\n",
            "╔═════════════════════════════════════════════════════════════════════════════════════╗\n",
            "║ ➤ Model / Vendor    : text-embedding-ada-002 / openai         \n",
            "║ ➤ Dimensions      : 1536         \n",
            "║ ➤ Flat Vector Size: 30720         \n",
            "╚═════════════════════════════════════════════════════════════════════════════════════╝\n",
            "╔════════════════════════════════════════════════════════════════════���════════════════╗\n",
            "║ ➤ Model / Vendor    : text-embedding-3-small / openai         \n",
            "║ ➤ Dimensions      : 1536         \n",
            "║ ➤ Flat Vector Size: 30720         \n",
            "╚═════════════════════════════════════════════════════════════════════════════════════╝\n"
          ]
        }
      ],
      "source": [
        "chunk_default.printVD()"
      ]
    },
    {
      "cell_type": "code",
      "execution_count": 10,
      "metadata": {},
      "outputs": [
        {
          "name": "stdout",
          "output_type": "stream",
          "text": [
            "Nearest index: 13\n",
            "Distance: 0.385114\n"
          ]
        },
        {
          "data": {
            "text/plain": [
              "PureResult(index=[13], distances=[0.38511359691619873])"
            ]
          },
          "execution_count": 10,
          "metadata": {},
          "output_type": "execute_result"
        }
      ],
      "source": [
        "cc.PureL2(\"Playoff\", chunk_default, 0, 1)"
      ]
    },
    {
      "cell_type": "code",
      "execution_count": 15,
      "metadata": {},
      "outputs": [
        {
          "name": "stdout",
          "output_type": "stream",
          "text": [
            "Nearest index: 7\n",
            "Distance: 1.13697\n"
          ]
        },
        {
          "data": {
            "text/plain": [
              "PureResult(index=[7, 4], distances=[1.136965274810791, 1.154970407485962])"
            ]
          },
          "execution_count": 15,
          "metadata": {},
          "output_type": "execute_result"
        }
      ],
      "source": [
        "cc.PureL2(\"Playoff\", chunk_default, 1, 2)"
      ]
    },
    {
      "cell_type": "code",
      "execution_count": 16,
      "metadata": {},
      "outputs": [
        {
          "name": "stdout",
          "output_type": "stream",
          "text": [
            "Most similar index: 13\n",
            "Similarity score: 0.807443\n"
          ]
        },
        {
          "data": {
            "text/plain": [
              "PureResult(index=[13, 7, 4, 8, 6], distances=[0.8074425458908081, 0.8068920373916626, 0.8038732409477234, 0.7957504987716675, 0.7954297065734863])"
            ]
          },
          "execution_count": 16,
          "metadata": {},
          "output_type": "execute_result"
        }
      ],
      "source": [
        "cc.PureIP(\"Playoff\", chunk_default, 0, 5)"
      ]
    },
    {
      "cell_type": "code",
      "execution_count": 17,
      "metadata": {},
      "outputs": [
        {
          "name": "stdout",
          "output_type": "stream",
          "text": [
            "Most similar index: 7\n",
            "Similarity score: 0.431642\n"
          ]
        },
        {
          "data": {
            "text/plain": [
              "PureResult(index=[7, 4, 13, 6, 0, 1], distances=[0.43164193630218506, 0.42264002561569214, 0.4190523624420166, 0.3870890438556671, 0.3556225895881653, 0.34597042202949524])"
            ]
          },
          "execution_count": 17,
          "metadata": {},
          "output_type": "execute_result"
        }
      ],
      "source": [
        "cc.PureIP(\"Playoff\", chunk_default, 1, 6)"
      ]
    },
    {
      "cell_type": "code",
      "execution_count": 18,
      "metadata": {},
      "outputs": [
        {
          "data": {
            "text/plain": [
              "PureResult(index=[7, 4, 13, 6], distances=[0.43164199590682983, 0.42264002561569214, 0.41905224323272705, 0.38708919286727905])"
            ]
          },
          "execution_count": 18,
          "metadata": {},
          "output_type": "execute_result"
        }
      ],
      "source": [
        "cc.PureCosine(\"Playoff\", chunk_default, 1, 4)"
      ]
    }
  ],
  "metadata": {
    "colab": {
      "provenance": []
    },
    "kernelspec": {
      "display_name": "venv",
      "language": "python",
      "name": "python3"
    },
    "language_info": {
      "codemirror_mode": {
        "name": "ipython",
        "version": 3
      },
      "file_extension": ".py",
      "mimetype": "text/x-python",
      "name": "python",
      "nbconvert_exporter": "python",
      "pygments_lexer": "ipython3",
      "version": "3.12.3"
    }
  },
  "nbformat": 4,
  "nbformat_minor": 0
}
