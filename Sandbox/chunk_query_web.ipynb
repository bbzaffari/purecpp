{
  "cells": [
    {
      "cell_type": "code",
      "execution_count": 1,
      "metadata": {
        "id": "dcXPWBxXGES3"
      },
      "outputs": [],
      "source": [
        "# !pip uninstall purecpp_libs purecpp_extract purecpp_chunks_clean"
      ]
    },
    {
      "cell_type": "code",
      "execution_count": 2,
      "metadata": {
        "colab": {
          "base_uri": "https://localhost:8080/"
        },
        "id": "7dtgLxkQBVU4",
        "outputId": "3f8c01bd-e43c-4b87-c5d9-032d3c7ecf01"
      },
      "outputs": [],
      "source": [
        "# !pip install purecpp_libs==0.0.10 purecpp_extract==0.0.10 purecpp_chunks_clean==0.0.10 purecpp_embed==0.0.10"
      ]
    },
    {
      "cell_type": "code",
      "execution_count": null,
      "metadata": {
        "colab": {
          "base_uri": "https://localhost:8080/"
        },
        "id": "Id24_ARrT_KY",
        "outputId": "aa82d813-2eb6-4260-f680-cb82953b626a"
      },
      "outputs": [],
      "source": [
        "import os\n",
        "os.environ[\"OPENAI_API_KEY\"] = \"\""
      ]
    },
    {
      "cell_type": "code",
      "execution_count": 4,
      "metadata": {
        "id": "TAd_tzUZBVU5"
      },
      "outputs": [],
      "source": [
        "import purecpp_libs as libs\n",
        "from purecpp_extract import WebLoader\n",
        "\n",
        "import purecpp_chunks_clean as cc\n",
        "# import purecpp_embed as embchunked_docs\n",
        "import faiss"
      ]
    },
    {
      "cell_type": "code",
      "execution_count": 5,
      "metadata": {
        "id": "UZD-yrgDBVU5"
      },
      "outputs": [
        {
          "name": "stdout",
          "output_type": "stream",
          "text": [
            "Scrapped https://www.espn.com/\n"
          ]
        }
      ],
      "source": [
        "loader = WebLoader(\"https://www.espn.com/\")\n",
        "docs = loader.Load()"
      ]
    },
    {
      "cell_type": "code",
      "execution_count": 6,
      "metadata": {
        "colab": {
          "base_uri": "https://localhost:8080/"
        },
        "id": "uESlIyRnGB6o",
        "outputId": "2c70b965-4e04-44ba-b5de-173d2901108a"
      },
      "outputs": [],
      "source": [
        "chunk_default = cc.ChunkDefault(chunk_size=420, overlap=60, items_opt=docs, max_workers=4)\n",
        "# chunked_docs = chunk_default.ProcessDocuments(items=docs)\n",
        "#print(chunked_docs)"
      ]
    },
    {
      "cell_type": "code",
      "execution_count": 7,
      "metadata": {},
      "outputs": [],
      "source": [
        "q_chunk = cc.ChunkQuery()"
      ]
    },
    {
      "cell_type": "code",
      "execution_count": 8,
      "metadata": {},
      "outputs": [
        {
          "name": "stdout",
          "output_type": "stream",
          "text": [
            "Document(metadata={}, page_content=\"Playoffs of\")\n"
          ]
        }
      ],
      "source": [
        "print(q_chunk.Query(\"Playoffs of\"))"
      ]
    },
    {
      "cell_type": "markdown",
      "metadata": {},
      "source": [
        "q_chunker.setChunks(chunk_default, 0)\n",
        "---------------------------------------------------------------------------\n",
        "ValueError                                Traceback (most recent call last)\n",
        "Cell In[9], line 1\n",
        "----> 1 q_chunker.setChunks(chunk_default, 0)\n",
        "\n",
        "ValueError: Empty chunks vector."
      ]
    },
    {
      "cell_type": "code",
      "execution_count": 9,
      "metadata": {},
      "outputs": [
        {
          "name": "stdout",
          "output_type": "stream",
          "text": [
            "Flatten vector dimensions: <29184>\n",
            "dim: 1536 n: 19 → expected size: 29184\n",
            "Model text-embedding-ada-002, openai\n",
            "╔═════════════════════════════════════════════════════════════════════════════════════╗\n",
            "║ ➤ Model: text-embedding-ada-002 was added to chunks                      \n",
            "╚═════════════════════════════════════════════════════════════════════════════════════╝\n",
            "╔═════════════════════════════════════════════════════════════════════════════════════╗\n",
            "║ ➤ Model / Vendo"
          ]
        },
        {
          "data": {
            "text/plain": [
              "<purecpp_chunks_clean.VDBdata at 0x7fcf6eda5330>"
            ]
          },
          "execution_count": 9,
          "metadata": {},
          "output_type": "execute_result"
        },
        {
          "name": "stdout",
          "output_type": "stream",
          "text": [
            "r    : text-embedding-ada-002 / openai         \n",
            "║ ➤ Dimensions      : 1536         \n",
            "║ ➤ Flat Vector Size: 29184         \n",
            "╚═════════════════════════════════════════════════════════════════════════════════════╝\n"
          ]
        }
      ],
      "source": [
        "chunk_default.CreateEmb()"
      ]
    },
    {
      "cell_type": "code",
      "execution_count": 10,
      "metadata": {},
      "outputs": [
        {
          "name": "stdout",
          "output_type": "stream",
          "text": [
            "Flatten vector dimensions: <29184>\n",
            "dim: 1536 n: 19 → expected size: 29184\n",
            "Model text-embedding-3-small, openai\n"
          ]
        },
        {
          "data": {
            "text/plain": [
              "<purecpp_chunks_clean.VDBdata at 0x7fcfbee5c5b0>"
            ]
          },
          "execution_count": 10,
          "metadata": {},
          "output_type": "execute_result"
        },
        {
          "name": "stdout",
          "output_type": "stream",
          "text": [
            "╔═════════════════════════════════════════════════════════════════════════════════════╗\n",
            "║ ➤ Model: text-embedding-3-small was added to chunks                      \n",
            "╚═════════════════════════════════════════════════════════════════════════════════════╝\n",
            "╔═════════════════════════════════════════════════════════════════════════════════════╗\n",
            "║ ➤ Model / Vendor    : text-embedding-3-small / openai         \n",
            "║ ➤ Dimensions      : 1536         \n",
            "║ ➤ Flat Vector Size: 29184         \n",
            "╚═════════════════════════════════════════════════════════════════════════════════════╝\n"
          ]
        }
      ],
      "source": [
        "chunk_default.CreateEmb(\"text-embedding-3-small\")"
      ]
    },
    {
      "cell_type": "code",
      "execution_count": null,
      "metadata": {},
      "outputs": [
        {
          "name": "stdout",
          "output_type": "stream",
          "text": [
            "Chunk list contains 19 chunks.\n",
            "With an average size of: 420 and  overlap of: 60 | Quantity of different embeddings: 2\n",
            "╔═════════════════════════════════════════════════════════════════════════════════════╗\n",
            "║ ➤ Model / Vendor    : text-embedding-ada-002 / openai         \n",
            "║ ➤ Dimensions      : 1536         \n",
            "║ ➤ Flat Vector Size: 29184         \n",
            "╚═════════════════════════════════════════════════════════════════════════════════════╝\n",
            "╔═════════════════════════════════════════════════════════════════════════════════════╗\n",
            "║ ➤ Model / Vendor    : text-embedding-3-small / openai         \n",
            "║ ➤ Dimensions      : 1536         \n",
            "║ ➤ Flat Vector Size: 29184         \n",
            "╚═════════════════════════════════════════════════════════════════════════════════════╝\n"
          ]
        }
      ],
      "source": [
        "chunk_default.printVD()\n"
      ]
    },
    {
      "cell_type": "code",
      "execution_count": 23,
      "metadata": {},
      "outputs": [
        {
          "name": "stdout",
          "output_type": "stream",
          "text": [
            "Document(metadata={\"model\":\"text-embedding-ada-002\"}, page_content=\"Playoffs of\", embedding=[-0.0215784, -0.00720149, 0.00807558, 0.00154108, -0.0402866, ...])\n"
          ]
        }
      ],
      "source": [
        "q_chunk.setChunks(chunk_default, 0)\n",
        "print(q_chunk.getQuery())"
      ]
    },
    {
      "cell_type": "code",
      "execution_count": 13,
      "metadata": {},
      "outputs": [
        {
          "name": "stdout",
          "output_type": "stream",
          "text": [
            "### Question:\n",
            "Playoffs of\n",
            "\n",
            "### Relevant context:\n",
            "0. Score [0.814987] Malley 2 (Jun. 7, ESPN+ PPV) Quick Links NBA Playoffs Stanley Cup Playoffs French Open WNBA Season Schedule NBA Draft Watch Golf on ESPN Where To Watch Today's Top Odds ESPN Radio: Listen Live Fantasy Football Baseball Hockey Men's Basketball Women's Basketball ESPN Sites ESPN Deportes Andscape espnW ESPNFC X Games SEC Network ESPN Apps ESPN ESPN Fantasy Tournament Challenge Follow ESPN Facebook X/Twitter Instagram S\n",
            "1. Score [0.804889] ith win; USA's Fritz falls Panthers without Reinhart, Mikkola, Greer for G4 U.S. wins 1st worlds in 92 years, honors Gaudreau SEC awarded half of NCAA baseball regional sites Free 'Merci Rafa' T-shirts spark resale frenzy 🏈 Ranking college football coaches as players AROUND THE DIAMOND Memorial Day MLB standings check: Playoff field predictions, biggest surprises and more Our experts look at the best and worst of \n",
            "\n",
            "Based on this context, provide a precise, concise, and well-reasoned answer. Answer in the language of the question.\n",
            "\n"
          ]
        }
      ],
      "source": [
        "q_chunk.Retrieve(0.5)\n",
        "print(q_chunk.strQ(2))"
      ]
    },
    {
      "cell_type": "code",
      "execution_count": 14,
      "metadata": {},
      "outputs": [
        {
          "name": "stdout",
          "output_type": "stream",
          "text": [
            "Document(metadata={\"model\":\"text-embedding-3-small\"}, page_content=\"Playoffs of\", embedding=[-0.00913118, -3.37448e-05, 0.0313601, 0.0142824, -0.0278461, ...])\n"
          ]
        }
      ],
      "source": [
        "q_chunk.setChunks(chunk_default, 1)\n",
        "print(q_chunk.getQuery())"
      ]
    },
    {
      "cell_type": "code",
      "execution_count": 15,
      "metadata": {},
      "outputs": [
        {
          "name": "stdout",
          "output_type": "stream",
          "text": [
            "### Question:\n",
            "Playoffs of\n",
            "\n",
            "### Relevant context:\n",
            "0. Score [0.402226]  Jim Irsay's three daughters have played key roles with the Colts. Bob DeChiara-Imagn Images Are the NBA playoffs too physical? Have the refs actually lost control? Here's what the data says The discourse -- and discord -- surrounding playoff officiating isn't new. But this year, players and coaches have wondered if the league has lost control. The NBA says its ref data is in line with past years. Who's right? Photo \n",
            "1. Score [0.374606] urprises and more Our experts look at the best and worst of the season to date -- and predict which teams will rule from here on out. 7h ESPN Brian Rothmuller/Icon Sportswire MLB SCOREBOARD 📅 Complete scoreboard ⬆⬇ Standings MONDAY MORNING OPINIONS SAS is not having Morris twins' Tyrese Haliburton superstar talk 2h 1:46 Stephen A.: If Timberwolves win G4, WCF is going 7 games 3h 3:15 West Finals - Game 4 OKC l\n",
            "\n",
            "Based on this context, provide a precise, concise, and well-reasoned answer. Answer in the language of the question.\n",
            "\n"
          ]
        }
      ],
      "source": [
        "q_chunk.Retrieve(0.0)\n",
        "print(q_chunk.strQ(2))"
      ]
    },
    {
      "cell_type": "markdown",
      "metadata": {},
      "source": []
    },
    {
      "cell_type": "markdown",
      "metadata": {},
      "source": []
    },
    {
      "cell_type": "code",
      "execution_count": 16,
      "metadata": {},
      "outputs": [],
      "source": [
        "# n, dim = q_chunker.get_emb_par()\n",
        "# print(f\"N {n}, Dim {dim}\")"
      ]
    },
    {
      "cell_type": "code",
      "execution_count": 17,
      "metadata": {},
      "outputs": [],
      "source": [
        "# flatten = q_chunker.get_vd()\n",
        "# print(f\"[{flatten[0]}, {flatten[1]}, {flatten[2]}....], size {len(flatten)}\")"
      ]
    },
    {
      "cell_type": "markdown",
      "metadata": {},
      "source": []
    },
    {
      "cell_type": "code",
      "execution_count": 18,
      "metadata": {},
      "outputs": [],
      "source": [
        "# index = faiss.IndexFlatL2(dim)"
      ]
    },
    {
      "cell_type": "code",
      "execution_count": 19,
      "metadata": {},
      "outputs": [],
      "source": [
        "# index.add(flatten)"
      ]
    },
    {
      "cell_type": "code",
      "execution_count": 20,
      "metadata": {},
      "outputs": [],
      "source": [
        "# distances, indices = index.search(q_emb, 2)\n",
        "\n",
        "# print(\"Indices retornados pelo FAISS:\", indices)\n",
        "# print(\"Distâncias:\", distances)\n"
      ]
    },
    {
      "cell_type": "code",
      "execution_count": 21,
      "metadata": {},
      "outputs": [],
      "source": [
        "# print(\"### Question:\")\n",
        "# print(q.page_content)\n",
        "# print()\n",
        "# print(\"### Relevant context:\")\n",
        "# for i, idx in enumerate(indices[0]):\n",
        "#     print(f\"{i+1}. Score [{distances[0][i]:.4f}]: {chunked_docs[idx].page_content}\")\n"
      ]
    }
  ],
  "metadata": {
    "colab": {
      "provenance": []
    },
    "kernelspec": {
      "display_name": "venv",
      "language": "python",
      "name": "python3"
    },
    "language_info": {
      "codemirror_mode": {
        "name": "ipython",
        "version": 3
      },
      "file_extension": ".py",
      "mimetype": "text/x-python",
      "name": "python",
      "nbconvert_exporter": "python",
      "pygments_lexer": "ipython3",
      "version": "3.12.3"
    }
  },
  "nbformat": 4,
  "nbformat_minor": 0
}
